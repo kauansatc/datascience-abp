{
 "cells": [
  {
   "cell_type": "code",
   "execution_count": 109,
   "metadata": {},
   "outputs": [],
   "source": [
    "import pandas as pd\n",
    "\n",
    "CPI_EUA = pd.read_csv(\"data/CPI eua.csv\")\n",
    "FEDERAL_FUND_EFFECTVE = pd.read_csv(\"data/Federal Funds Effective.csv\")\n",
    "INFLACA_EUA= pd.read_csv('data/Inflação eua.csv')\n",
    "# IPCA = pd.read_csv('data/IPCA.csv', sep=\";\", encoding=\"iso-8859-1\")\n",
    "# JPY_USD = pd.read_csv('data/JPY_USD Dados Históricos.csv')\n",
    "PIB_BR = pd.read_excel('data/PIB Br.xlsx', index_col=[0])\n",
    "PIB_EUA = pd.read_csv('data/PIB eua.csv')\n",
    "RELACAO_EURO_DOLAR = pd.read_csv('data/Relação euro_dolar.csv', sep=\";\", encoding=\"iso-8859-1\")\n",
    "RESERVAR_INTERNACIONAIS = pd.read_csv('data/reservas internacionais.csv', sep=\";\", encoding=\"iso-8859-1\")\n",
    "RISCO_BR = pd.read_excel('data/Risco Br.xlsx')\n",
    "# SALDO_BALANCA_COMERCIAL = pd.read_csv('data/Saldo da Balanca Comercial.csv', sep=\";\", encoding=\"iso-8859-1\")\n",
    "TAXA_CAMBIO_REAL_EFETIVA = pd.read_csv('data/Taxa Cambio Real Efetiva.csv', sep=\";\", encoding=\"iso-8859-1\")\n",
    "TAXA_SELIC = pd.read_csv('data/Taxa Selic.csv', sep=\";\")\n",
    "USB_BRL_HIST = pd.read_csv('data/USD_BRL Dados Históricos.csv')"
   ]
  },
  {
   "cell_type": "code",
   "execution_count": 95,
   "metadata": {
    "scrolled": true
   },
   "outputs": [],
   "source": [
    "CPI_EUA[\"ts\"] = pd.to_datetime(CPI_EUA[\"DATE\"])\n",
    "FEDERAL_FUND_EFFECTVE[\"ts\"] = pd.to_datetime(FEDERAL_FUND_EFFECTVE[\"DATE\"])\n",
    "INFLACA_EUA[\"ts\"] = pd.to_datetime(INFLACA_EUA[\"DATE\"])\n",
    "# PIB_BR[\"ts\"] = pd.to_datetime(PIB_BR[\"Unnamed: 1\"], format=\") TODO: arrumar\n",
    "PIB_EUA[\"ts\"] = pd.to_datetime(PIB_EUA[\"DATE\"])\n",
    "RELACAO_EURO_DOLAR[\"ts\"] = pd.to_datetime(RELACAO_EURO_DOLAR[\"Data\"], format=\"%m/%Y\", errors=\"coerce\")\n",
    "RESERVAR_INTERNACIONAIS[\"ts\"] = pd.to_datetime(RESERVAR_INTERNACIONAIS[\"Data\"], format=\"%m/%Y\", errors=\"coerce\")\n",
    "RISCO_BR[\"ts\"] = pd.to_datetime(RISCO_BR[\"Mês\"], format=\"%b-%y\", errors=\"coerce\")\n",
    "TAXA_CAMBIO_REAL_EFETIVA[\"ts\"] = pd.to_datetime(TAXA_CAMBIO_REAL_EFETIVA[\"Data\"], format=\"%m/%Y\", errors=\"coerce\")\n",
    "TAXA_SELIC[\"ts\"] = pd.to_datetime(TAXA_SELIC[\"Data\"], format=\"%d/%m/%Y\", errors=\"coerce\")\n",
    "USB_BRL_HIST[\"ts\"] = pd.to_datetime(USB_BRL_HIST[\"Data\"], format=\"%d.%m.%Y\", errors=\"coerce\")"
   ]
  },
  {
   "cell_type": "code",
   "execution_count": 112,
   "metadata": {},
   "outputs": [
    {
     "ename": "NameError",
     "evalue": "name 'functools' is not defined",
     "output_type": "error",
     "traceback": [
      "\u001b[0;31m---------------------------------------------------------------------------\u001b[0m",
      "\u001b[0;31mNameError\u001b[0m                                 Traceback (most recent call last)",
      "Cell \u001b[0;32mIn[112], line 2\u001b[0m\n\u001b[1;32m      1\u001b[0m dataframes \u001b[38;5;241m=\u001b[39m [CPI_EUA, FEDERAL_FUND_EFFECTVE, INFLACA_EUA, PIB_EUA, RELACAO_EURO_DOLAR, RESERVAR_INTERNACIONAIS, RISCO_BR, TAXA_CAMBIO_REAL_EFETIVA, USB_BRL_HIST]\n\u001b[0;32m----> 2\u001b[0m \u001b[43mfunctools\u001b[49m\u001b[38;5;241m.\u001b[39mreduce(\u001b[38;5;28;01mlambda\u001b[39;00m left, right: pd\u001b[38;5;241m.\u001b[39mmerge(left, right, on\u001b[38;5;241m=\u001b[39m\u001b[38;5;124m\"\u001b[39m\u001b[38;5;124mts\u001b[39m\u001b[38;5;124m\"\u001b[39m, how\u001b[38;5;241m=\u001b[39m\u001b[38;5;124m\"\u001b[39m\u001b[38;5;124minner\u001b[39m\u001b[38;5;124m\"\u001b[39m), dataframes)\n",
      "\u001b[0;31mNameError\u001b[0m: name 'functools' is not defined"
     ]
    }
   ],
   "source": [
    "\n",
    "\n",
    "dataframes = [CPI_EUA, FEDERAL_FUND_EFFECTVE, INFLACA_EUA, PIB_EUA, RELACAO_EURO_DOLAR, RESERVAR_INTERNACIONAIS, RISCO_BR, TAXA_CAMBIO_REAL_EFETIVA, USB_BRL_HIST]\n",
    "functools.reduce(lambda left, right: pd.merge(left, right, on=\"ts\", how=\"inner\"), dataframes)"
   ]
  }
 ],
 "metadata": {
  "kernelspec": {
   "display_name": "Python 3 (ipykernel)",
   "language": "python",
   "name": "python3"
  },
  "language_info": {
   "codemirror_mode": {
    "name": "ipython",
    "version": 3
   },
   "file_extension": ".py",
   "mimetype": "text/x-python",
   "name": "python",
   "nbconvert_exporter": "python",
   "pygments_lexer": "ipython3",
   "version": "3.12.7"
  }
 },
 "nbformat": 4,
 "nbformat_minor": 4
}
