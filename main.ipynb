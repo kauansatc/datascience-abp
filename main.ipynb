{
 "cells": [
  {
   "cell_type": "code",
   "execution_count": 98,
   "metadata": {},
   "outputs": [],
   "source": [
    "import pandas as pd\n",
    "\n",
    "CPI_EUA = pd.read_csv(\"data/CPI eua.csv\")\n",
    "JUROS_EUA = pd.read_csv(\"data/Federal Funds Effective.csv\")\n",
    "INFLACAO_EUA= pd.read_csv('data/Inflação eua.csv')\n",
    "PIB_BR = pd.read_excel('data/PIB Br.xlsx')\n",
    "PIB_EUA = pd.read_csv('data/PIB eua.csv')\n",
    "RELACAO_EURO_DOLAR = pd.read_csv('data/Relação euro_dolar.csv', sep=\";\", encoding=\"iso-8859-1\")\n",
    "RESERVAR_INTERNACIONAIS = pd.read_csv('data/reservas internacionais.csv', sep=\";\", encoding=\"iso-8859-1\")\n",
    "RISCO_BR = pd.read_excel('data/Risco Br.xlsx')\n",
    "TAXA_CAMBIO_REAL_EFETIVA = pd.read_csv('data/Taxa Cambio Real Efetiva.csv', sep=\";\", encoding=\"iso-8859-1\")\n",
    "TAXA_SELIC = pd.read_csv('data/Taxa Selic.csv', sep=\";\")\n",
    "USD_BRL_HIST = pd.read_csv('data/USD_BRL Dados Históricos.csv')"
   ]
  },
  {
   "cell_type": "code",
   "execution_count": 99,
   "metadata": {
    "scrolled": true
   },
   "outputs": [],
   "source": [
    "CPI_EUA[\"ts\"] = pd.to_datetime(CPI_EUA[\"DATE\"])\n",
    "CPI_EUA.drop(columns=[\"DATE\"], inplace=True)\n",
    "CPI_EUA.rename(columns={CPI_EUA.columns[0]: \"CPI_EUA\"}, inplace=True)\n",
    "\n",
    "JUROS_EUA[\"ts\"] = pd.to_datetime(JUROS_EUA[\"DATE\"])\n",
    "JUROS_EUA.drop(columns=[\"DATE\"], inplace=True)\n",
    "JUROS_EUA.rename(columns={JUROS_EUA.columns[0]: \"JUROS_EUA\"}, inplace=True)\n",
    "\n",
    "INFLACAO_EUA[\"ts\"] = pd.to_datetime(INFLACA_EUA[\"DATE\"])\n",
    "INFLACAO_EUA.drop(columns=[\"DATE\"], inplace=True)\n",
    "INFLACAO_EUA.rename(columns={INFLACAO_EUA.columns[0]: \"JUROS_EUA\"}, inplace=True)\n",
    "\n",
    "quarter_to_month = {'T1': '01', 'T2': '04', 'T3': '07', 'T4': '10'}\n",
    "PIB_BR[\"ts\"] = PIB_BR[PIB_BR.columns[0]].apply(\n",
    "    lambda x: f\"{x.split()[0]}-{quarter_to_month[x.split()[1]]}-01\"\n",
    ")\n",
    "PIB_BR[\"ts\"] = pd.to_datetime(PIB_BR[\"ts\"])\n",
    "\n",
    "PIB_EUA[\"ts\"] = pd.to_datetime(PIB_EUA[\"DATE\"])\n",
    "PIB_EUA.drop(columns=[\"DATE\"], inplace=True)\n",
    "PIB_EUA.rename(columns={PIB_EUA.columns[0]: \"PIB_EUA\"}, inplace=True)\n",
    "\n",
    "RELACAO_EURO_DOLAR[\"ts\"] = pd.to_datetime(RELACAO_EURO_DOLAR[\"Data\"], format=\"%m/%Y\", errors=\"coerce\")\n",
    "RELACAO_EURO_DOLAR.drop(columns=[\"Data\"], inplace=True)\n",
    "RELACAO_EURO_DOLAR.rename(columns={RELACAO_EURO_DOLAR.columns[0]: \"REL_EURO_DOLAR\"}, inplace=True)\n",
    "\n",
    "RESERVAR_INTERNACIONAIS[\"ts\"] = pd.to_datetime(RESERVAR_INTERNACIONAIS[\"Data\"], format=\"%m/%Y\", errors=\"coerce\")\n",
    "RESERVAR_INTERNACIONAIS.drop(columns=[\"Data\"], inplace=True)\n",
    "RESERVAR_INTERNACIONAIS.rename(columns={RESERVAR_INTERNACIONAIS.columns[0]: \"RESERVA_INTERNACIONAL\"}, inplace=True)\n",
    "\n",
    "RISCO_BR[\"ts\"] = pd.to_datetime(RISCO_BR[\"Mês\"], format=\"%b-%y\", errors=\"coerce\")\n",
    "RISCO_BR.drop(columns=[\"Mês\"], inplace=True)\n",
    "RISCO_BR.rename(columns={RISCO_BR.columns[0]: \"RISCO_BR\"}, inplace=True)\n",
    "\n",
    "TAXA_CAMBIO_REAL_EFETIVA[\"ts\"] = pd.to_datetime(TAXA_CAMBIO_REAL_EFETIVA[\"Data\"], format=\"%m/%Y\", errors=\"coerce\")\n",
    "TAXA_CAMBIO_REAL_EFETIVA.drop(columns=[\"Data\"], inplace=True)\n",
    "TAXA_CAMBIO_REAL_EFETIVA.rename(columns={TAXA_CAMBIO_REAL_EFETIVA.columns[0]: \"TAXA_CAMBIO\"}, inplace=True)\n",
    "\n",
    "TAXA_SELIC[\"ts\"] = pd.to_datetime(TAXA_SELIC[\"Data\"], format=\"%d/%m/%Y\", errors=\"coerce\")\n",
    "TAXA_SELIC.drop(columns=[\"Data\"], inplace=True)\n",
    "TAXA_SELIC.rename(columns={TAXA_SELIC.columns[0]: \"SELIC\"}, inplace=True)\n",
    "\n",
    "USD_BRL_HIST[\"ts\"] = pd.to_datetime(USB_BRL_HIST[\"Data\"], format=\"%d.%m.%Y\", errors=\"coerce\")\n",
    "USD_BRL_HIST.drop(columns=[\"Data\", \"Último\", \"Abertura\", \"Vol.\"], inplace=True)\n",
    "USD_BRL_HIST.rename(columns={\n",
    "    \"Máxima\": \"MAX\",\n",
    "    \"Mínima\": \"MIN\",\n",
    "    \"Var%\": \"VARIACAO\",\n",
    "}, inplace=True)\n"
   ]
  },
  {
   "cell_type": "code",
   "execution_count": 101,
   "metadata": {},
   "outputs": [
    {
     "name": "stdout",
     "output_type": "stream",
     "text": [
      "<class 'pandas.core.frame.DataFrame'>\n",
      "RangeIndex: 6801 entries, 0 to 6800\n",
      "Data columns (total 15 columns):\n",
      " #   Column                 Non-Null Count  Dtype         \n",
      "---  ------                 --------------  -----         \n",
      " 0   CPI_EUA                176 non-null    float64       \n",
      " 1   ts                     6800 non-null   datetime64[ns]\n",
      " 2   JUROS_EUA_x            6261 non-null   object        \n",
      " 3   JUROS_EUA_y            24 non-null     float64       \n",
      " 4   Unnamed: 0             110 non-null    object        \n",
      " 5   Unnamed: 1             110 non-null    float64       \n",
      " 6   PIB_EUA                310 non-null    float64       \n",
      " 7   REL_EURO_DOLAR         243 non-null    object        \n",
      " 8   RESERVA_INTERNACIONAL  646 non-null    object        \n",
      " 9   RISCO_BR               267 non-null    float64       \n",
      " 10  TAXA_CAMBIO            440 non-null    object        \n",
      " 11  SELIC                  6029 non-null   object        \n",
      " 12  MAX                    2720 non-null   object        \n",
      " 13  MIN                    2720 non-null   object        \n",
      " 14  VARIACAO               2720 non-null   object        \n",
      "dtypes: datetime64[ns](1), float64(5), object(9)\n",
      "memory usage: 797.1+ KB\n"
     ]
    }
   ],
   "source": [
    "dataframes = [\n",
    "    CPI_EUA, \n",
    "    JUROS_EUA,\n",
    "    INFLACAO_EUA, \n",
    "    PIB_BR, \n",
    "    PIB_EUA, \n",
    "    RELACAO_EURO_DOLAR, \n",
    "    RESERVAR_INTERNACIONAIS, \n",
    "    RISCO_BR, \n",
    "    TAXA_CAMBIO_REAL_EFETIVA, \n",
    "    TAXA_SELIC,\n",
    "    USD_BRL_HIST\n",
    "]\n",
    "\n",
    "merged = dataframes[0]\n",
    "for df in dataframes[1:]:\n",
    "    merged = merged.merge(df, on='ts', how='outer')\n",
    "\n",
    "merged.info()"
   ]
  },
  {
   "cell_type": "code",
   "execution_count": null,
   "metadata": {},
   "outputs": [],
   "source": []
  }
 ],
 "metadata": {
  "kernelspec": {
   "display_name": "Python 3 (ipykernel)",
   "language": "python",
   "name": "python3"
  },
  "language_info": {
   "codemirror_mode": {
    "name": "ipython",
    "version": 3
   },
   "file_extension": ".py",
   "mimetype": "text/x-python",
   "name": "python",
   "nbconvert_exporter": "python",
   "pygments_lexer": "ipython3",
   "version": "3.12.7"
  }
 },
 "nbformat": 4,
 "nbformat_minor": 4
}
