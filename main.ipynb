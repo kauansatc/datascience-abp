{
 "cells": [
  {
   "cell_type": "markdown",
   "metadata": {},
   "source": [
    "# Etapa 2"
   ]
  },
  {
   "cell_type": "code",
   "execution_count": 279,
   "metadata": {},
   "outputs": [],
   "source": [
    "import pandas as pd\n",
    "\n",
    "# A inflação dos EUA afeta o valor do dólar globalmente, inclusive em relação ao real.\n",
    "CPI_EUA = pd.read_csv(\"data/CPI eua.csv\")\n",
    "\n",
    "# A taxa de juros dos EUA influencia o valor do dólar e, portanto, pode impactar o câmbio USD/BRL.\n",
    "JUROS_EUA = pd.read_csv(\"data/Federal Funds Effective.csv\")\n",
    "\n",
    "# A inflação nos EUA afeta o poder de compra do dólar, o que pode influenciar sua taxade câmbio com o real\n",
    "INFLACAO_EUA= pd.read_csv('data/Inflação eua.csv')\n",
    "\n",
    "# A força da economia dos EUA, refletida no PIB, afeta o valor da sua moeda em relação a outras, incluindo o real.\n",
    "PIB_EUA = pd.read_csv('data/PIB eua.csv')\n",
    "\n",
    "# O câmbio euro/dólar pode fornecer informações sobre a força do dólar em relação a uma moeda forte, o que pode ser útil para prever o valor em relação ao real.\n",
    "RELACAO_EURO_DOLAR = pd.read_csv('data/Relação euro_dolar.csv', sep=\";\", encoding=\"iso-8859-1\")\n",
    "\n",
    "# O PIB brasileiro reflete a força da economia do Brasil, que pode impactar a taxa de câmbio USD/BRL.\n",
    "PIB_BR = pd.read_excel('data/PIB Br.xlsx')\n",
    "\n",
    "# As reservas internacionais brasileiras podem influenciar a estabilidade e o valor do real frente ao dólar.\n",
    "RESERVAR_INTERNACIONAIS = pd.read_csv('data/reservas internacionais.csv', sep=\";\", encoding=\"iso-8859-1\")\n",
    "\n",
    "# O risco-país pode ser um fator importante para o valor do real, já que o risco afeta a atratividade dos investimentos no Brasil.\n",
    "RISCO_BR = pd.read_excel('data/Risco Br.xlsx')\n",
    "\n",
    "# Esta taxa mede o valor do real ajustado pela inflação, sendo um importante indicador para prever a evolução da taxa de câmbio.\n",
    "TAXA_CAMBIO_REAL_EFETIVA = pd.read_csv('data/Taxa Cambio Real Efetiva.csv', sep=\";\", encoding=\"iso-8859-1\")\n",
    "\n",
    "# Esta taxa mede o valor do real ajustado pela inflação, sendo um importante indicador para prever a evolução da taxa de câmbio.\n",
    "TAXA_SELIC = pd.read_csv('data/Taxa Selic.csv', sep=\";\")\n",
    "\n",
    "# Este é o dataset central, contendo o histórico do câmbio entre o dólar e o real\n",
    "USD_BRL_HIST = pd.read_csv('data/USD_BRL Dados Históricos.csv')"
   ]
  },
  {
   "cell_type": "markdown",
   "metadata": {},
   "source": [
    "# Etapa 3"
   ]
  },
  {
   "cell_type": "code",
   "execution_count": 280,
   "metadata": {
    "scrolled": true
   },
   "outputs": [],
   "source": [
    "CPI_EUA[\"ts\"] = pd.to_datetime(CPI_EUA[\"DATE\"])\n",
    "CPI_EUA.drop(columns=[\"DATE\"], inplace=True)\n",
    "CPI_EUA.rename(columns={CPI_EUA.columns[0]: \"CPI_EUA\"}, inplace=True)\n",
    "\n",
    "JUROS_EUA[\"ts\"] = pd.to_datetime(JUROS_EUA[\"DATE\"])\n",
    "JUROS_EUA.drop(columns=[\"DATE\"], inplace=True)\n",
    "JUROS_EUA.rename(columns={JUROS_EUA.columns[0]: \"JUROS_EUA\"}, inplace=True)\n",
    "JUROS_EUA['JUROS_EUA'] = pd.to_numeric(JUROS_EUA['JUROS_EUA'], errors='coerce')\n",
    "\n",
    "INFLACAO_EUA[\"ts\"] = pd.to_datetime(INFLACA_EUA[\"DATE\"])\n",
    "INFLACAO_EUA.drop(columns=[\"DATE\"], inplace=True)\n",
    "INFLACAO_EUA.rename(columns={INFLACAO_EUA.columns[0]: \"INFLACAO\"}, inplace=True)\n",
    "\n",
    "quarter_to_month = {'T1': '01', 'T2': '04', 'T3': '07', 'T4': '10'}\n",
    "PIB_BR[\"ts\"] = PIB_BR[PIB_BR.columns[0]].apply(\n",
    "    lambda x: f\"{x.split()[0]}-{quarter_to_month[x.split()[1]]}-01\"\n",
    ")\n",
    "PIB_BR[\"ts\"] = pd.to_datetime(PIB_BR[\"ts\"])\n",
    "PIB_BR.drop(columns=PIB_BR.columns[0:2], inplace=True)\n",
    "\n",
    "PIB_EUA[\"ts\"] = pd.to_datetime(PIB_EUA[\"DATE\"])\n",
    "PIB_EUA.drop(columns=[\"DATE\"], inplace=True)\n",
    "PIB_EUA.rename(columns={PIB_EUA.columns[0]: \"PIB_EUA\"}, inplace=True)\n",
    "\n",
    "RELACAO_EURO_DOLAR[\"ts\"] = pd.to_datetime(RELACAO_EURO_DOLAR[\"Data\"], format=\"%m/%Y\", errors=\"coerce\")\n",
    "RELACAO_EURO_DOLAR.drop(columns=[\"Data\"], inplace=True)\n",
    "RELACAO_EURO_DOLAR.rename(columns={RELACAO_EURO_DOLAR.columns[0]: \"REL_EURO_DOLAR\"}, inplace=True)\n",
    "RELACAO_EURO_DOLAR['REL_EURO_DOLAR'] = RELACAO_EURO_DOLAR['REL_EURO_DOLAR'].str.replace(',', '.', regex=False)\n",
    "RELACAO_EURO_DOLAR['REL_EURO_DOLAR'] = pd.to_numeric(RELACAO_EURO_DOLAR['REL_EURO_DOLAR'], errors='coerce')\n",
    "\n",
    "\n",
    "RESERVAR_INTERNACIONAIS[\"ts\"] = pd.to_datetime(RESERVAR_INTERNACIONAIS[\"Data\"], format=\"%m/%Y\", errors=\"coerce\")\n",
    "RESERVAR_INTERNACIONAIS.drop(columns=[\"Data\"], inplace=True)\n",
    "RESERVAR_INTERNACIONAIS.rename(columns={RESERVAR_INTERNACIONAIS.columns[0]: \"RESERVA_INTERNACIONAL\"}, inplace=True)\n",
    "RESERVAR_INTERNACIONAIS['RESERVA_INTERNACIONAL'] = pd.to_numeric(RESERVAR_INTERNACIONAIS['RESERVA_INTERNACIONAL'], errors='coerce')\n",
    "\n",
    "\n",
    "RISCO_BR[\"ts\"] = pd.to_datetime(RISCO_BR[\"Mês\"], format=\"%b-%y\", errors=\"coerce\")\n",
    "RISCO_BR.drop(columns=[\"Mês\"], inplace=True)\n",
    "RISCO_BR.rename(columns={RISCO_BR.columns[0]: \"RISCO_BR\"}, inplace=True)\n",
    "\n",
    "TAXA_CAMBIO_REAL_EFETIVA[\"ts\"] = pd.to_datetime(TAXA_CAMBIO_REAL_EFETIVA[\"Data\"], format=\"%m/%Y\", errors=\"coerce\")\n",
    "TAXA_CAMBIO_REAL_EFETIVA.drop(columns=[\"Data\"], inplace=True)\n",
    "TAXA_CAMBIO_REAL_EFETIVA.rename(columns={TAXA_CAMBIO_REAL_EFETIVA.columns[0]: \"TAXA_CAMBIO\"}, inplace=True)\n",
    "TAXA_CAMBIO_REAL_EFETIVA['TAXA_CAMBIO'] = TAXA_CAMBIO_REAL_EFETIVA['TAXA_CAMBIO'].str.replace(',', '.', regex=False)\n",
    "TAXA_CAMBIO_REAL_EFETIVA['TAXA_CAMBIO'] = pd.to_numeric(TAXA_CAMBIO_REAL_EFETIVA['TAXA_CAMBIO'], errors='coerce')\n",
    "\n",
    "\n",
    "TAXA_SELIC[\"ts\"] = pd.to_datetime(TAXA_SELIC[\"Data\"], format=\"%d/%m/%Y\", errors=\"coerce\")\n",
    "TAXA_SELIC.drop(columns=[\"Data\"], inplace=True)\n",
    "TAXA_SELIC.rename(columns={TAXA_SELIC.columns[0]: \"SELIC\"}, inplace=True)\n",
    "TAXA_SELIC['SELIC'] = TAXA_SELIC['SELIC'].str.replace(',', '.', regex=False)\n",
    "TAXA_SELIC['SELIC'] = pd.to_numeric(TAXA_SELIC['SELIC'], errors='coerce')\n",
    "\n",
    "\n",
    "USD_BRL_HIST[\"ts\"] = pd.to_datetime(USB_BRL_HIST[\"Data\"], format=\"%d.%m.%Y\", errors=\"coerce\")\n",
    "USD_BRL_HIST.drop(columns=[\"Data\", \"Último\", \"Abertura\", \"Vol.\"], inplace=True)\n",
    "USD_BRL_HIST.rename(columns={\n",
    "    \"Máxima\": \"MAX\",\n",
    "    \"Mínima\": \"MIN\",\n",
    "    \"Var%\": \"VARIACAO\",\n",
    "}, inplace=True)\n",
    "USD_BRL_HIST['MAX'] = USD_BRL_HIST['MAX'].str.replace(',', '.', regex=False)\n",
    "USD_BRL_HIST['MIN'] = USD_BRL_HIST['MIN'].str.replace(',', '.', regex=False)\n",
    "USD_BRL_HIST['VARIACAO'] = USD_BRL_HIST['VARIACAO'].str.replace(',', '.', regex=False)\n",
    "USD_BRL_HIST['VARIACAO'] = USD_BRL_HIST['VARIACAO'].str.replace('%', '', regex=False)\n",
    "USD_BRL_HIST['MAX'] = pd.to_numeric(USD_BRL_HIST['MAX'], errors='coerce')\n",
    "USD_BRL_HIST['MIN'] = pd.to_numeric(USD_BRL_HIST['MIN'], errors='coerce')\n",
    "USD_BRL_HIST['VARIACAO'] = pd.to_numeric(USD_BRL_HIST['VARIACAO'], errors='coerce')"
   ]
  },
  {
   "cell_type": "code",
   "execution_count": 281,
   "metadata": {},
   "outputs": [],
   "source": [
    "dataframes = [\n",
    "    CPI_EUA, \n",
    "    JUROS_EUA,\n",
    "    INFLACAO_EUA, \n",
    "    PIB_BR, \n",
    "    PIB_EUA, \n",
    "    RELACAO_EURO_DOLAR, \n",
    "    RESERVAR_INTERNACIONAIS, \n",
    "    RISCO_BR, \n",
    "    TAXA_CAMBIO_REAL_EFETIVA, \n",
    "    TAXA_SELIC,\n",
    "    USD_BRL_HIST\n",
    "]\n",
    "\n",
    "merged = dataframes[0]\n",
    "for df in dataframes[1:]:\n",
    "    merged = merged.merge(df, on='ts', how='outer')"
   ]
  },
  {
   "cell_type": "code",
   "execution_count": 282,
   "metadata": {},
   "outputs": [],
   "source": [
    "indexed = merged.set_index(\"ts\")\n",
    "grouped = indexed.resample(\"W\").mean().ffill()"
   ]
  },
  {
   "cell_type": "code",
   "execution_count": 283,
   "metadata": {},
   "outputs": [
    {
     "name": "stdout",
     "output_type": "stream",
     "text": [
      "<class 'pandas.core.frame.DataFrame'>\n",
      "DatetimeIndex: 567 entries, 2013-12-01 to 2024-10-06\n",
      "Data columns (total 12 columns):\n",
      " #   Column                 Non-Null Count  Dtype  \n",
      "---  ------                 --------------  -----  \n",
      " 0   CPI_EUA                567 non-null    float64\n",
      " 1   JUROS_EUA              567 non-null    float64\n",
      " 2   INFLACAO               567 non-null    float64\n",
      " 3   PIB_EUA                567 non-null    float64\n",
      " 4   REL_EURO_DOLAR         567 non-null    float64\n",
      " 5   RESERVA_INTERNACIONAL  567 non-null    float64\n",
      " 6   RISCO_BR               567 non-null    float64\n",
      " 7   TAXA_CAMBIO            567 non-null    float64\n",
      " 8   SELIC                  567 non-null    float64\n",
      " 9   MAX                    567 non-null    float64\n",
      " 10  MIN                    567 non-null    float64\n",
      " 11  VARIACAO               567 non-null    float64\n",
      "dtypes: float64(12)\n",
      "memory usage: 57.6 KB\n"
     ]
    }
   ],
   "source": [
    "table = grouped[result.index>pd.Timestamp(\"2013-11-24\")]\n",
    "table.info()"
   ]
  }
 ],
 "metadata": {
  "kernelspec": {
   "display_name": "Python 3 (ipykernel)",
   "language": "python",
   "name": "python3"
  },
  "language_info": {
   "codemirror_mode": {
    "name": "ipython",
    "version": 3
   },
   "file_extension": ".py",
   "mimetype": "text/x-python",
   "name": "python",
   "nbconvert_exporter": "python",
   "pygments_lexer": "ipython3",
   "version": "3.12.7"
  }
 },
 "nbformat": 4,
 "nbformat_minor": 4
}
